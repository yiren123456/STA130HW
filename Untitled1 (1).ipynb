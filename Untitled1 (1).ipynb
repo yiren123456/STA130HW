{
 "cells": [
  {
   "cell_type": "markdown",
   "id": "f0f02d8f",
   "metadata": {},
   "source": [
    "#1\n",
    "The term 'standard deviation' describes how different the data points in a sample or population are from each other. It applies to the whole sample or population. The standard error of the mean shows how uncertain the sample mean is. It only applies to the sample mean and shows how precise it is."
   ]
  },
  {
   "cell_type": "markdown",
   "id": "80acfd1f",
   "metadata": {},
   "source": [
    "#2\n",
    "First, calculate the sample mean (x̄). Then, multiply the standard error of the mean (SEM) by 1.96 and subtract the margin of error from the sample mean to get the lower limit of the confidence interval. Add the margin of error to the sample mean to get the upper limit of the confidence interval.\n",
    "Confidence interval = x̄ ± (1.96 * SEM)"
   ]
  },
  {
   "cell_type": "markdown",
   "id": "d0b86056",
   "metadata": {},
   "source": [
    "#3\n",
    "Create a large number of bootstrap samples and calculate the mean of each. Find the 2.5th and 97.5th percentiles of the mean distribution. The range between these is the 95% confidence interval, which covers 95% of the samples."
   ]
  },
  {
   "cell_type": "code",
   "execution_count": 2,
   "id": "fabf37de",
   "metadata": {},
   "outputs": [
    {
     "name": "stdout",
     "output_type": "stream",
     "text": [
      "The 95% bootstrap confidence interval for the population mean is: [-6. -6.]\n"
     ]
    }
   ],
   "source": [
    "#4\n",
    "import numpy as np\n",
    "\n",
    "# Create a sample of data\n",
    "sample = np.array([1-7]) # Example sample\n",
    "\n",
    "# Number of bootstrap samples\n",
    "num_bootstrap_samples = 10000\n",
    "\n",
    "# Create an array to store the bootstrapped sample means\n",
    "bootstrapped_means = np.empty(num_bootstrap_samples)\n",
    "\n",
    "# Loop through the number of bootstrap samples\n",
    "for i in range(num_bootstrap_samples):\n",
    "    # Create a bootstrap sample by randomly selecting data points from the original sample with replacement\n",
    "    bootstrap_sample = np.random.choice(sample, size=len(sample), replace=True)\n",
    "    \n",
    "    # Calculate the mean of the bootstrap sample\n",
    "    bootstrapped_means[i] = np.mean(bootstrap_sample)\n",
    "    \n",
    "# Calculate the 95% bootstrap confidence interval for the population mean\n",
    "confidence_interval = np.quantile(bootstrapped_means, [0.025, 0.975])\n",
    "\n",
    "# Print the confidence interval\n",
    "print(f\"The 95% bootstrap confidence interval for the population mean is: {confidence_interval}\")"
   ]
  },
  {
   "cell_type": "markdown",
   "id": "e07db843",
   "metadata": {},
   "source": [
    "#5\n",
    "Confidence intervals are used to estimate overall parameters. These are characteristics of entire populations, but it is not possible to collect data from the entire population. Instead, we collect a sample and use it to estimate the overall parameter."
   ]
  },
  {
   "cell_type": "markdown",
   "id": "7debcc2c",
   "metadata": {},
   "source": [
    "#6\n",
    "You have a jar of 100 marbles. How do you find the average weight? You weigh 10 marbles. Instead of just calculating the average weight of the 10 marbles, you can use the bootstrap method! Take 10 marbles at random from the sample and weigh them. Calculate the average weight of these 10 marbles. Repeat this process several times to see how the sample averages might change if you take different samples from the original jar."
   ]
  },
  {
   "cell_type": "markdown",
   "id": "cedd19d1",
   "metadata": {},
   "source": [
    "#7\n",
    "If a confidence interval for a population parameter, like the average effect of a drug, includes zero, it means that zero is a plausible value for the true population parameter. In the example from the \"Pre-lecture\" video, if the 95% confidence interval for the drug's average effect includes zero, we can say that we are 95% confident that the true average effect could be anywhere within that interval.\n",
    "This is because the data is consistent with no effect or a very small effect. The sample mean might not be exactly zero, but the confidence interval includes zero. This means that the observed sample mean could be due to random sampling variability. We don't have enough evidence to say that the drug has a true effect different from zero.\n",
    "To reject the null hypothesis, the confidence interval for the drug's average effect needs to exclude zero. This means that, based on the observed sample, we are confident that the drug's true average effect is different from zero."
   ]
  },
  {
   "cell_type": "code",
   "execution_count": null,
   "id": "11e40f22",
   "metadata": {},
   "outputs": [],
   "source": [
    "#9\n",
    "csv\n",
    "PatientID,Age,Gender,InitialHealthScore,FinalHealthScore\n",
    "1,45,M,84,86\n",
    "2,34,F,78,86\n",
    "3,29,M,83,80\n",
    "4,52,F,81,86\n",
    "5,37,M,81,84\n",
    "6,41,F,80,86\n",
    "7,33,M,79,86\n",
    "8,48,F,85,82\n",
    "9,26,M,76,83\n",
    "10,39,F,83,84"
   ]
  },
  {
   "cell_type": "markdown",
   "id": "8786de8f",
   "metadata": {},
   "source": [
    "#9\n",
    "yes"
   ]
  }
 ],
 "metadata": {
  "kernelspec": {
   "display_name": "Python 3 (ipykernel)",
   "language": "python",
   "name": "python3"
  },
  "language_info": {
   "codemirror_mode": {
    "name": "ipython",
    "version": 3
   },
   "file_extension": ".py",
   "mimetype": "text/x-python",
   "name": "python",
   "nbconvert_exporter": "python",
   "pygments_lexer": "ipython3",
   "version": "3.11.6"
  }
 },
 "nbformat": 4,
 "nbformat_minor": 5
}
